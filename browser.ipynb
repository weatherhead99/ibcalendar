{
 "cells": [
  {
   "cell_type": "code",
   "execution_count": 1,
   "metadata": {},
   "outputs": [
    {
     "data": {
      "application/vnd.jupyter.widget-view+json": {
       "model_id": "2a35adaea31242b2981315f5915c5e7b",
       "version_major": 2,
       "version_minor": 0
      },
      "text/plain": [
       "BoundedIntText(value=1, description='select event to display', max=21, min=1)"
      ]
     },
     "metadata": {},
     "output_type": "display_data"
    },
    {
     "data": {
      "application/vnd.jupyter.widget-view+json": {
       "model_id": "abd736e44a4f49e595898477db935a2f",
       "version_major": 2,
       "version_minor": 0
      },
      "text/plain": [
       "IntSlider(value=2, description='number of sentences to display', max=2, min=1)"
      ]
     },
     "metadata": {},
     "output_type": "display_data"
    },
    {
     "data": {
      "application/vnd.jupyter.widget-view+json": {
       "model_id": "c396fac816d943ef9f35bafabba071d1",
       "version_major": 2,
       "version_minor": 0
      },
      "text/plain": [
       "Checkbox(value=True, description='enable this event in the output')"
      ]
     },
     "metadata": {},
     "output_type": "display_data"
    },
    {
     "data": {
      "application/vnd.jupyter.widget-view+json": {
       "model_id": "afeda51fc4234ad3bb395a54159f9209",
       "version_major": 2,
       "version_minor": 0
      },
      "text/plain": [
       "HTML(value=' <h1 style=\"display: block;font-size: 30px;font-weight: bold;margin: 0;line-height: 1.3;margin: 0;…"
      ]
     },
     "metadata": {},
     "output_type": "display_data"
    }
   ],
   "source": [
    "from print_calendar import download_levan_events, test_startdate, test_enddate\n",
    "from notebook_preview import EventBrowser\n",
    "\n",
    "events = download_levan_events(test_startdate, test_enddate)\n",
    "browser = EventBrowser(events)\n",
    "\n"
   ]
  },
  {
   "cell_type": "code",
   "execution_count": 3,
   "metadata": {},
   "outputs": [
    {
     "data": {
      "text/plain": [
       "{0: event_settings(nsentences=2, enabled=False),\n",
       " 1: event_settings(nsentences=2, enabled=True),\n",
       " 2: event_settings(nsentences=12, enabled=False),\n",
       " 3: event_settings(nsentences=2, enabled=True),\n",
       " 4: event_settings(nsentences=2, enabled=True),\n",
       " 5: event_settings(nsentences=2, enabled=True),\n",
       " 6: event_settings(nsentences=2, enabled=True),\n",
       " 7: event_settings(nsentences=2, enabled=True),\n",
       " 8: event_settings(nsentences=2, enabled=True),\n",
       " 9: event_settings(nsentences=2, enabled=True),\n",
       " 10: event_settings(nsentences=2, enabled=True),\n",
       " 11: event_settings(nsentences=2, enabled=True),\n",
       " 12: event_settings(nsentences=2, enabled=True),\n",
       " 13: event_settings(nsentences=2, enabled=True),\n",
       " 14: event_settings(nsentences=2, enabled=True),\n",
       " 15: event_settings(nsentences=2, enabled=True),\n",
       " 16: event_settings(nsentences=2, enabled=True),\n",
       " 17: event_settings(nsentences=2, enabled=True),\n",
       " 18: event_settings(nsentences=2, enabled=True),\n",
       " 19: event_settings(nsentences=2, enabled=True),\n",
       " 20: event_settings(nsentences=2, enabled=True)}"
      ]
     },
     "execution_count": 3,
     "metadata": {},
     "output_type": "execute_result"
    }
   ],
   "source": [
    "browser._settings"
   ]
  },
  {
   "cell_type": "code",
   "execution_count": null,
   "metadata": {},
   "outputs": [],
   "source": []
  }
 ],
 "metadata": {
  "kernelspec": {
   "display_name": "Python 3",
   "language": "python",
   "name": "python3"
  },
  "language_info": {
   "codemirror_mode": {
    "name": "ipython",
    "version": 3
   },
   "file_extension": ".py",
   "mimetype": "text/x-python",
   "name": "python",
   "nbconvert_exporter": "python",
   "pygments_lexer": "ipython3",
   "version": "3.6.9"
  }
 },
 "nbformat": 4,
 "nbformat_minor": 2
}

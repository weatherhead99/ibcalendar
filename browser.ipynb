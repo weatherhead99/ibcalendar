{
 "cells": [
  {
   "cell_type": "code",
   "execution_count": 4,
   "metadata": {},
   "outputs": [
    {
     "data": {
      "application/vnd.jupyter.widget-view+json": {
       "model_id": "80178c325b114627ba6d4f7cdda61e31",
       "version_major": 2,
       "version_minor": 0
      },
      "text/plain": [
       "BoundedIntText(value=1, description='select event to display', max=21, min=1)"
      ]
     },
     "metadata": {},
     "output_type": "display_data"
    },
    {
     "data": {
      "application/vnd.jupyter.widget-view+json": {
       "model_id": "55fb1e9dad3d402fae3a0c1ef1b1e156",
       "version_major": 2,
       "version_minor": 0
      },
      "text/plain": [
       "IntSlider(value=2, description='number of sentences to display', max=2, min=1)"
      ]
     },
     "metadata": {},
     "output_type": "display_data"
    },
    {
     "data": {
      "application/vnd.jupyter.widget-view+json": {
       "model_id": "89a8b68e1c3445139a0a35a49ebf75fd",
       "version_major": 2,
       "version_minor": 0
      },
      "text/plain": [
       "Checkbox(value=True, description='enable this event in the output')"
      ]
     },
     "metadata": {},
     "output_type": "display_data"
    },
    {
     "data": {
      "application/vnd.jupyter.widget-view+json": {
       "model_id": "7800bd3e5fb1490e8b7d7a3885cdae40",
       "version_major": 2,
       "version_minor": 0
      },
      "text/plain": [
       "HTML(value=' <h1 style=\"display: block;font-size: 30px;font-weight: bold;margin: 0;line-height: 1.3;margin: 0;…"
      ]
     },
     "metadata": {},
     "output_type": "display_data"
    }
   ],
   "source": [
    "from licalendarlib.print_calendar import download_levan_events, test_startdate, test_enddate\n",
    "from licalendarlib.notebook_preview import EventBrowser\n",
    "\n",
    "events = download_levan_events(test_startdate, test_enddate)\n",
    "browser = EventBrowser(events)\n",
    "\n"
   ]
  }
 ],
 "metadata": {
  "kernelspec": {
   "display_name": "Python 3",
   "language": "python",
   "name": "python3"
  },
  "language_info": {
   "codemirror_mode": {
    "name": "ipython",
    "version": 3
   },
   "file_extension": ".py",
   "mimetype": "text/x-python",
   "name": "python",
   "nbconvert_exporter": "python",
   "pygments_lexer": "ipython3",
   "version": "3.7.1"
  }
 },
 "nbformat": 4,
 "nbformat_minor": 2
}

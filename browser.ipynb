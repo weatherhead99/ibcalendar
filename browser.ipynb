{
 "cells": [
  {
   "cell_type": "markdown",
   "metadata": {},
   "source": [
    "Instructions\n",
    "==========\n",
    "NOTE: I think this doesn't work properly in Safari browser, you will have to use Firefox, Chrome etc\n",
    "\n",
    "1. **Click \"Cell\" then \"Run All\" in the menu bar above** the GUI elements should appear below the code\n",
    "1. **choose a start and end date** using the drop down boxes\n",
    "2. **Click \"download events\"** - after a few seconds you should see previews of the text and picture of the first event\n",
    "\n",
    "\n",
    "You can select which event you are previewing using the **event number** spin box.\n",
    "You can change the number of sentences included in the description by moving the **sentences** slider\n",
    "**Enable Event** checkbox currently does nothing.\n",
    "\n",
    "\n",
    "A thumbnail image is automatically generated of size (210,280) - this is not yet configurable.\n",
    "\n",
    "\n",
    "Below the preview you will see a text box containing HTML code. This can be copied and pasted into a HTML cell in myEmma to get the description to show as it is in the preview above.\n",
    "\n",
    "The image which is displayed can be copied or saved as needed and is already of the appropriate size.\n",
    "\n",
    "\n",
    "\n"
   ]
  },
  {
   "cell_type": "code",
   "execution_count": 4,
   "metadata": {
    "tags": [
     "hide_input"
    ]
   },
   "outputs": [
    {
     "data": {
      "application/vnd.jupyter.widget-view+json": {
       "model_id": "2d44387f761346daa5b97428d20fd2f4",
       "version_major": 2,
       "version_minor": 0
      },
      "text/plain": [
       "HBox(children=(DatePicker(value=datetime.datetime(2020, 1, 10, 15, 44, 3, 870743), description='start date'), …"
      ]
     },
     "metadata": {},
     "output_type": "display_data"
    },
    {
     "data": {
      "application/vnd.jupyter.widget-view+json": {
       "model_id": "3175fa5e0ab4465eaee74a2b444f7b6d",
       "version_major": 2,
       "version_minor": 0
      },
      "text/plain": [
       "BoundedIntText(value=0, description='event number', disabled=True, max=0)"
      ]
     },
     "metadata": {},
     "output_type": "display_data"
    },
    {
     "data": {
      "application/vnd.jupyter.widget-view+json": {
       "model_id": "4e66551aed0e41bcbb42b364dd5f4109",
       "version_major": 2,
       "version_minor": 0
      },
      "text/plain": [
       "HBox(children=(IntSlider(value=2, description='sentences', disabled=True, max=2, min=1), Checkbox(value=True, …"
      ]
     },
     "metadata": {},
     "output_type": "display_data"
    },
    {
     "data": {
      "application/vnd.jupyter.widget-view+json": {
       "model_id": "db213860ae5042f99da5f55c3558bc50",
       "version_major": 2,
       "version_minor": 0
      },
      "text/plain": [
       "Image(value=b'')"
      ]
     },
     "metadata": {},
     "output_type": "display_data"
    },
    {
     "data": {
      "application/vnd.jupyter.widget-view+json": {
       "model_id": "ab7d1a9621e64632bbd5a01a96e3dffd",
       "version_major": 2,
       "version_minor": 0
      },
      "text/plain": [
       "HTML(value='')"
      ]
     },
     "metadata": {},
     "output_type": "display_data"
    },
    {
     "data": {
      "application/vnd.jupyter.widget-view+json": {
       "model_id": "4fe316ea856145cb91b4281e5b09fa61",
       "version_major": 2,
       "version_minor": 0
      },
      "text/plain": [
       "Textarea(value='')"
      ]
     },
     "metadata": {},
     "output_type": "display_data"
    }
   ],
   "source": [
    "from licalendarlib.notebook_preview import EventDownloader, EventBrowser\n",
    "browser = EventBrowser()\n",
    "downloader = EventDownloader(browser)\n",
    "downloader.display()\n",
    "browser.display()"
   ]
  }
 ],
 "metadata": {
  "kernelspec": {
   "display_name": "Python 3",
   "language": "python",
   "name": "python3"
  },
  "language_info": {
   "codemirror_mode": {
    "name": "ipython",
    "version": 3
   },
   "file_extension": ".py",
   "mimetype": "text/x-python",
   "name": "python",
   "nbconvert_exporter": "python",
   "pygments_lexer": "ipython3",
   "version": "3.7.1"
  }
 },
 "nbformat": 4,
 "nbformat_minor": 2
}

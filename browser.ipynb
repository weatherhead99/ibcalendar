{
 "cells": [
  {
   "cell_type": "markdown",
   "metadata": {},
   "source": [
    "Instructions\n",
    "==========\n",
    "NOTE: I think this doesn't work properly in Safari browser, you will have to use Firefox, Chrome etc\n",
    "\n",
    "1. **Click \"Cell\" then \"Run All\" in the menu bar above** the GUI elements should appear below the code\n",
    "1. **choose a start and end date** using the drop down boxes\n",
    "2. **Click \"download events\"** - after a few seconds you should see previews of the text and picture of the first event\n",
    "\n",
    "\n",
    "You can select which event you are previewing using the **event number** spin box.\n",
    "You can change the number of sentences included in the description by moving the **sentences** slider\n",
    "**Enable Event** checkbox currently does nothing.\n",
    "\n",
    "\n",
    "A thumbnail image is automatically generated of size (210,280) - this is not yet configurable.\n",
    "\n",
    "\n",
    "Below the preview you will see a text box containing HTML code. This can be copied and pasted into a HTML cell in myEmma to get the description to show as it is in the preview above.\n",
    "\n",
    "The image which is displayed can be copied or saved as needed and is already of the appropriate size.\n",
    "\n",
    "\n",
    "\n"
   ]
  },
  {
   "cell_type": "code",
   "execution_count": 1,
   "metadata": {
    "tags": [
     "hide_input"
    ]
   },
   "outputs": [
    {
     "data": {
      "application/vnd.jupyter.widget-view+json": {
       "model_id": "d03ef323fec8468b88a724d2369765e7",
       "version_major": 2,
       "version_minor": 0
      },
      "text/plain": [
       "HBox(children=(DatePicker(value=datetime.datetime(2020, 1, 10, 22, 31, 55, 238183), description='start date'),…"
      ]
     },
     "metadata": {},
     "output_type": "display_data"
    },
    {
     "data": {
      "application/vnd.jupyter.widget-view+json": {
       "model_id": "b9eba6154ac5473ab85b3f9324d8df58",
       "version_major": 2,
       "version_minor": 0
      },
      "text/plain": [
       "BoundedIntText(value=0, description='event number', disabled=True, max=0)"
      ]
     },
     "metadata": {},
     "output_type": "display_data"
    },
    {
     "data": {
      "application/vnd.jupyter.widget-view+json": {
       "model_id": "6b605ee0662d46888f967b93be64ef72",
       "version_major": 2,
       "version_minor": 0
      },
      "text/plain": [
       "HBox(children=(IntSlider(value=2, description='sentences', disabled=True, max=2, min=1), Checkbox(value=True, …"
      ]
     },
     "metadata": {},
     "output_type": "display_data"
    },
    {
     "data": {
      "application/vnd.jupyter.widget-view+json": {
       "model_id": "4bdcf8511ea34c3d9fe72dc3ebff0185",
       "version_major": 2,
       "version_minor": 0
      },
      "text/plain": [
       "Button(description='download text file', style=ButtonStyle())"
      ]
     },
     "metadata": {},
     "output_type": "display_data"
    },
    {
     "data": {
      "application/vnd.jupyter.widget-view+json": {
       "model_id": "7f8d461b80d2478bb62e0b8740795669",
       "version_major": 2,
       "version_minor": 0
      },
      "text/plain": [
       "Image(value=b'')"
      ]
     },
     "metadata": {},
     "output_type": "display_data"
    },
    {
     "data": {
      "application/vnd.jupyter.widget-view+json": {
       "model_id": "929373b3454c4e448b87b9cbbdd81c84",
       "version_major": 2,
       "version_minor": 0
      },
      "text/plain": [
       "HTML(value='')"
      ]
     },
     "metadata": {},
     "output_type": "display_data"
    },
    {
     "data": {
      "application/vnd.jupyter.widget-view+json": {
       "model_id": "63fc333dc2ac48b0a0dec9ffe01b8976",
       "version_major": 2,
       "version_minor": 0
      },
      "text/plain": [
       "Textarea(value='')"
      ]
     },
     "metadata": {},
     "output_type": "display_data"
    },
    {
     "name": "stdout",
     "output_type": "stream",
     "text": [
      "retrieving event data...\n"
     ]
    },
    {
     "name": "stderr",
     "output_type": "stream",
     "text": [
      "\r",
      "  0%|          | 0/30 [00:00<?, ?it/s]"
     ]
    },
    {
     "name": "stdout",
     "output_type": "stream",
     "text": [
      "got 30 events\n",
      "retrieving image files...\n"
     ]
    },
    {
     "name": "stderr",
     "output_type": "stream",
     "text": [
      "\r",
      "  3%|▎         | 1/30 [00:00<00:09,  2.99it/s]"
     ]
    }
   ],
   "source": [
    "from licalendarlib.notebook_preview import EventDownloader, EventBrowser\n",
    "browser = EventBrowser()\n",
    "downloader = EventDownloader(browser)\n",
    "downloader.display()\n",
    "browser.display()"
   ]
  },
  {
   "cell_type": "code",
   "execution_count": null,
   "metadata": {},
   "outputs": [],
   "source": [
    "\n",
    "    "
   ]
  },
  {
   "cell_type": "code",
   "execution_count": null,
   "metadata": {},
   "outputs": [],
   "source": []
  }
 ],
 "metadata": {
  "kernelspec": {
   "display_name": "Python 3",
   "language": "python",
   "name": "python3"
  },
  "language_info": {
   "codemirror_mode": {
    "name": "ipython",
    "version": 3
   },
   "file_extension": ".py",
   "mimetype": "text/x-python",
   "name": "python",
   "nbconvert_exporter": "python",
   "pygments_lexer": "ipython3",
   "version": "3.6.9"
  }
 },
 "nbformat": 4,
 "nbformat_minor": 2
}
